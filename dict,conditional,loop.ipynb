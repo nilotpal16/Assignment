{
 "cells": [
  {
   "cell_type": "code",
   "execution_count": 1,
   "id": "97d513b7-cd76-4a5e-b07e-ed9ec4389611",
   "metadata": {},
   "outputs": [],
   "source": [
    "d={}"
   ]
  },
  {
   "cell_type": "code",
   "execution_count": 2,
   "id": "d56dfffe-ff16-4ac2-b34e-9a5eb819bff3",
   "metadata": {},
   "outputs": [
    {
     "data": {
      "text/plain": [
       "dict"
      ]
     },
     "execution_count": 2,
     "metadata": {},
     "output_type": "execute_result"
    }
   ],
   "source": [
    "type(d)"
   ]
  },
  {
   "cell_type": "code",
   "execution_count": 3,
   "id": "dd96979c-5f71-48cd-873b-875ed25766e8",
   "metadata": {},
   "outputs": [],
   "source": [
    "d1= {'key': 'nilo'}"
   ]
  },
  {
   "cell_type": "code",
   "execution_count": 4,
   "id": "f91ff946-e572-4f19-bf99-e6784eae1340",
   "metadata": {},
   "outputs": [
    {
     "data": {
      "text/plain": [
       "{'key': 'nilo'}"
      ]
     },
     "execution_count": 4,
     "metadata": {},
     "output_type": "execute_result"
    }
   ],
   "source": [
    "d1"
   ]
  },
  {
   "cell_type": "code",
   "execution_count": 5,
   "id": "c7458c3f-9c88-4139-99df-198470b70e07",
   "metadata": {},
   "outputs": [],
   "source": [
    "d2={'name':'nilotpal','email':'knilotpal@gmail.com','number': 21233435}"
   ]
  },
  {
   "cell_type": "code",
   "execution_count": 6,
   "id": "5e3bb171-7c4a-489f-af4b-1e9637d995ae",
   "metadata": {},
   "outputs": [],
   "source": [
    "d3={234: 'nilo', '_wer':'kumar', True:233445}"
   ]
  },
  {
   "cell_type": "code",
   "execution_count": 7,
   "id": "ab321ffc-0d18-4275-afdc-95ed99ec1310",
   "metadata": {},
   "outputs": [
    {
     "data": {
      "text/plain": [
       "{234: 'nilo', '_wer': 'kumar', True: 233445}"
      ]
     },
     "execution_count": 7,
     "metadata": {},
     "output_type": "execute_result"
    }
   ],
   "source": [
    "d3"
   ]
  },
  {
   "cell_type": "code",
   "execution_count": 8,
   "id": "274079c0-e330-49c0-98ad-64c7da911aea",
   "metadata": {},
   "outputs": [
    {
     "ename": "SyntaxError",
     "evalue": "invalid syntax (299762389.py, line 1)",
     "output_type": "error",
     "traceback": [
      "\u001b[0;36m  Cell \u001b[0;32mIn[8], line 1\u001b[0;36m\u001b[0m\n\u001b[0;31m    d3{1}\u001b[0m\n\u001b[0m      ^\u001b[0m\n\u001b[0;31mSyntaxError\u001b[0m\u001b[0;31m:\u001b[0m invalid syntax\n"
     ]
    }
   ],
   "source": [
    "d3{1}"
   ]
  },
  {
   "cell_type": "code",
   "execution_count": 9,
   "id": "19a31d91-6132-47b7-9870-cb28ba0ab1b8",
   "metadata": {},
   "outputs": [
    {
     "ename": "SyntaxError",
     "evalue": "invalid syntax (2803136520.py, line 1)",
     "output_type": "error",
     "traceback": [
      "\u001b[0;36m  Cell \u001b[0;32mIn[9], line 1\u001b[0;36m\u001b[0m\n\u001b[0;31m    d3{234}\u001b[0m\n\u001b[0m      ^\u001b[0m\n\u001b[0;31mSyntaxError\u001b[0m\u001b[0;31m:\u001b[0m invalid syntax\n"
     ]
    }
   ],
   "source": [
    "d3{234}"
   ]
  },
  {
   "cell_type": "code",
   "execution_count": 10,
   "id": "abc21ff9-81d1-49c4-aae6-db8941d40567",
   "metadata": {},
   "outputs": [
    {
     "data": {
      "text/plain": [
       "'nilo'"
      ]
     },
     "execution_count": 10,
     "metadata": {},
     "output_type": "execute_result"
    }
   ],
   "source": [
    "d3[234]"
   ]
  },
  {
   "cell_type": "code",
   "execution_count": 11,
   "id": "2831aab9-cf8d-4619-a634-4fd2554ca5ba",
   "metadata": {},
   "outputs": [
    {
     "data": {
      "text/plain": [
       "233445"
      ]
     },
     "execution_count": 11,
     "metadata": {},
     "output_type": "execute_result"
    }
   ],
   "source": [
    "d3[1]"
   ]
  },
  {
   "cell_type": "code",
   "execution_count": 12,
   "id": "aabd050d-14ed-4e62-94db-a88f8797ddbe",
   "metadata": {},
   "outputs": [],
   "source": [
    "d4= {'name':'nilo','email':'nn@gmail.com','name':'nilotpal'}"
   ]
  },
  {
   "cell_type": "code",
   "execution_count": 13,
   "id": "767bfcd1-f9d3-483a-9dfb-4ebef6f0a13c",
   "metadata": {},
   "outputs": [
    {
     "data": {
      "text/plain": [
       "'nilotpal'"
      ]
     },
     "execution_count": 13,
     "metadata": {},
     "output_type": "execute_result"
    }
   ],
   "source": [
    "d4['name']"
   ]
  },
  {
   "cell_type": "code",
   "execution_count": 17,
   "id": "da7b04ab-f4e2-4984-87cf-ec8480e360ae",
   "metadata": {},
   "outputs": [
    {
     "ename": "SyntaxError",
     "evalue": "invalid syntax (1441046406.py, line 1)",
     "output_type": "error",
     "traceback": [
      "\u001b[0;36m  Cell \u001b[0;32mIn[17], line 1\u001b[0;36m\u001b[0m\n\u001b[0;31m    d5={'company':'pwskills',['course':'web dev', 'datascience': 'java with sata design']}\u001b[0m\n\u001b[0m                                      ^\u001b[0m\n\u001b[0;31mSyntaxError\u001b[0m\u001b[0;31m:\u001b[0m invalid syntax\n"
     ]
    }
   ],
   "source": [
    "d5={'company':'pwskills',['course':'web dev', 'datascience': 'java with sata design']}"
   ]
  },
  {
   "cell_type": "code",
   "execution_count": 15,
   "id": "62f470c4-1e06-4055-807e-182140ddfe66",
   "metadata": {},
   "outputs": [
    {
     "data": {
      "text/plain": [
       "'web dev'"
      ]
     },
     "execution_count": 15,
     "metadata": {},
     "output_type": "execute_result"
    }
   ],
   "source": [
    "d5['course']"
   ]
  },
  {
   "cell_type": "code",
   "execution_count": 19,
   "id": "4939d4fc-006f-4e7c-b2da-b0d4a2ce3757",
   "metadata": {},
   "outputs": [],
   "source": [
    "d6= {'number':[2,34,435,6,],'assignment':(1,2,3,4,5,5),'launchdate':(28,12,14),'classstime':{'webdev':8,'datascience':8,'javadesign':7}}"
   ]
  },
  {
   "cell_type": "code",
   "execution_count": 20,
   "id": "b80a410a-7656-404a-addc-07c6fb46b63c",
   "metadata": {},
   "outputs": [
    {
     "data": {
      "text/plain": [
       "{'number': [2, 34, 435, 6],\n",
       " 'assignment': (1, 2, 3, 4, 5, 5),\n",
       " 'launchdate': (28, 12, 14),\n",
       " 'classstime': {'webdev': 8, 'datascience': 8, 'javadesign': 7}}"
      ]
     },
     "execution_count": 20,
     "metadata": {},
     "output_type": "execute_result"
    }
   ],
   "source": [
    "d6"
   ]
  },
  {
   "cell_type": "code",
   "execution_count": 23,
   "id": "785553f9-132c-4ac4-82a7-852f43d7c8db",
   "metadata": {},
   "outputs": [
    {
     "data": {
      "text/plain": [
       "7"
      ]
     },
     "execution_count": 23,
     "metadata": {},
     "output_type": "execute_result"
    }
   ],
   "source": [
    "d6['classstime']['javadesign']"
   ]
  },
  {
   "cell_type": "code",
   "execution_count": 24,
   "id": "f132687f-881b-483e-9376-36d6c23d9bb9",
   "metadata": {},
   "outputs": [
    {
     "data": {
      "text/plain": [
       "{'number': [2, 34, 435, 6],\n",
       " 'assignment': (1, 2, 3, 4, 5, 5),\n",
       " 'launchdate': (28, 12, 14),\n",
       " 'classstime': {'webdev': 8, 'datascience': 8, 'javadesign': 7}}"
      ]
     },
     "execution_count": 24,
     "metadata": {},
     "output_type": "execute_result"
    }
   ],
   "source": [
    "d6"
   ]
  },
  {
   "cell_type": "code",
   "execution_count": 26,
   "id": "b227b0e6-167e-4b55-ae18-a7bee1b010da",
   "metadata": {},
   "outputs": [],
   "source": [
    "d6['mentor'] = ['nilo','krish','haider']"
   ]
  },
  {
   "cell_type": "code",
   "execution_count": 27,
   "id": "c7514639-2b59-456d-ba33-13fbb8a85cbc",
   "metadata": {},
   "outputs": [
    {
     "data": {
      "text/plain": [
       "{'number': [2, 34, 435, 6],\n",
       " 'assignment': (1, 2, 3, 4, 5, 5),\n",
       " 'launchdate': (28, 12, 14),\n",
       " 'classstime': {'webdev': 8, 'datascience': 8, 'javadesign': 7},\n",
       " 'mentor': ['nilo', 'krish', 'haider']}"
      ]
     },
     "execution_count": 27,
     "metadata": {},
     "output_type": "execute_result"
    }
   ],
   "source": [
    "d6"
   ]
  },
  {
   "cell_type": "code",
   "execution_count": 29,
   "id": "399d1caa-550d-4843-a73b-1a99c1f53aab",
   "metadata": {},
   "outputs": [],
   "source": [
    "del d6['number']"
   ]
  },
  {
   "cell_type": "code",
   "execution_count": 30,
   "id": "7601ea60-c5be-466e-bd05-8bcb344ccceb",
   "metadata": {},
   "outputs": [
    {
     "data": {
      "text/plain": [
       "{'assignment': (1, 2, 3, 4, 5, 5),\n",
       " 'launchdate': (28, 12, 14),\n",
       " 'classstime': {'webdev': 8, 'datascience': 8, 'javadesign': 7},\n",
       " 'mentor': ['nilo', 'krish', 'haider']}"
      ]
     },
     "execution_count": 30,
     "metadata": {},
     "output_type": "execute_result"
    }
   ],
   "source": [
    "d6"
   ]
  },
  {
   "cell_type": "code",
   "execution_count": 31,
   "id": "373df3a3-c1fb-4c1b-a4d6-aff162f4913e",
   "metadata": {},
   "outputs": [
    {
     "data": {
      "text/plain": [
       "dict_keys(['assignment', 'launchdate', 'classstime', 'mentor'])"
      ]
     },
     "execution_count": 31,
     "metadata": {},
     "output_type": "execute_result"
    }
   ],
   "source": [
    "d6.keys()"
   ]
  },
  {
   "cell_type": "code",
   "execution_count": 32,
   "id": "b481957c-e741-49a0-935e-cc383b939b39",
   "metadata": {},
   "outputs": [
    {
     "data": {
      "text/plain": [
       "[('assignment', (1, 2, 3, 4, 5, 5)),\n",
       " ('launchdate', (28, 12, 14)),\n",
       " ('classstime', {'webdev': 8, 'datascience': 8, 'javadesign': 7}),\n",
       " ('mentor', ['nilo', 'krish', 'haider'])]"
      ]
     },
     "execution_count": 32,
     "metadata": {},
     "output_type": "execute_result"
    }
   ],
   "source": [
    "list (d6.items())"
   ]
  },
  {
   "cell_type": "code",
   "execution_count": 34,
   "id": "06ad07c6-1363-40b5-a1b4-16c12fd4ccb2",
   "metadata": {},
   "outputs": [
    {
     "data": {
      "text/plain": [
       "[(1, 2, 3, 4, 5, 5),\n",
       " (28, 12, 14),\n",
       " {'webdev': 8, 'datascience': 8, 'javadesign': 7},\n",
       " ['nilo', 'krish', 'haider']]"
      ]
     },
     "execution_count": 34,
     "metadata": {},
     "output_type": "execute_result"
    }
   ],
   "source": [
    "list (d6.values())"
   ]
  },
  {
   "cell_type": "code",
   "execution_count": 35,
   "id": "d461df90-6234-4b35-860b-6f1b0ca2e9d4",
   "metadata": {},
   "outputs": [
    {
     "data": {
      "text/plain": [
       "(1, 2, 3, 4, 5, 5)"
      ]
     },
     "execution_count": 35,
     "metadata": {},
     "output_type": "execute_result"
    }
   ],
   "source": [
    "d6.pop('assignment')"
   ]
  },
  {
   "cell_type": "code",
   "execution_count": 36,
   "id": "703eb0a1-4158-4797-bf25-0e65a4f0ac45",
   "metadata": {},
   "outputs": [
    {
     "data": {
      "text/plain": [
       "{'launchdate': (28, 12, 14),\n",
       " 'classstime': {'webdev': 8, 'datascience': 8, 'javadesign': 7},\n",
       " 'mentor': ['nilo', 'krish', 'haider']}"
      ]
     },
     "execution_count": 36,
     "metadata": {},
     "output_type": "execute_result"
    }
   ],
   "source": [
    "d6"
   ]
  },
  {
   "cell_type": "code",
   "execution_count": 37,
   "id": "412926fc-6667-4bde-9587-8fcaf72ebabe",
   "metadata": {},
   "outputs": [
    {
     "ename": "TypeError",
     "evalue": "pop expected at least 1 argument, got 0",
     "output_type": "error",
     "traceback": [
      "\u001b[0;31m---------------------------------------------------------------------------\u001b[0m",
      "\u001b[0;31mTypeError\u001b[0m                                 Traceback (most recent call last)",
      "Cell \u001b[0;32mIn[37], line 1\u001b[0m\n\u001b[0;32m----> 1\u001b[0m \u001b[43md6\u001b[49m\u001b[38;5;241;43m.\u001b[39;49m\u001b[43mpop\u001b[49m\u001b[43m(\u001b[49m\u001b[43m)\u001b[49m\n",
      "\u001b[0;31mTypeError\u001b[0m: pop expected at least 1 argument, got 0"
     ]
    }
   ],
   "source": [
    "d6.pop()"
   ]
  },
  {
   "cell_type": "code",
   "execution_count": 44,
   "id": "ca6a351d-cc11-4a1b-af8f-68ab5e2c3f75",
   "metadata": {},
   "outputs": [
    {
     "name": "stdout",
     "output_type": "stream",
     "text": [
      "you will be a part of A1 batch\n"
     ]
    }
   ],
   "source": [
    "marks =65\n",
    "if marks >= 80:\n",
    "    print('you will be a part of A0 batch')\n",
    "elif marks >=60 and marks< 80 :\n",
    "    print('you will be a part of A1 batch')\n",
    "elif marks >= 40 and marks <60:\n",
    "    print('you will be a part of A2 batch')\n",
    "else:\n",
    "    print( ' you will be a part of A3 batch')"
   ]
  },
  {
   "cell_type": "code",
   "execution_count": 47,
   "id": "f6119adf-e985-4551-8a1e-cb0a2871bd51",
   "metadata": {},
   "outputs": [
    {
     "name": "stdin",
     "output_type": "stream",
     "text": [
      "enter your marks 324\n"
     ]
    },
    {
     "name": "stdout",
     "output_type": "stream",
     "text": [
      "you will be a part of A0 batch\n"
     ]
    }
   ],
   "source": [
    "marks =int (input('enter your marks'))\n",
    "if marks >= 80:\n",
    "    print('you will be a part of A0 batch')\n",
    "elif marks >=60 and marks< 80 :\n",
    "    print('you will be a part of A1 batch')\n",
    "elif marks >= 40 and marks <60:\n",
    "    print('you will be a part of A2 batch')\n",
    "else:\n",
    "    print( ' you will be a part of A3 batch')"
   ]
  },
  {
   "cell_type": "code",
   "execution_count": 48,
   "id": "5394ff40-eb5e-4c67-ae8b-4b52ca12256e",
   "metadata": {},
   "outputs": [
    {
     "data": {
      "text/plain": [
       "324"
      ]
     },
     "execution_count": 48,
     "metadata": {},
     "output_type": "execute_result"
    }
   ],
   "source": [
    "marks"
   ]
  },
  {
   "cell_type": "code",
   "execution_count": 49,
   "id": "78742f69-d294-4b8b-9b2e-2a630c96a82a",
   "metadata": {},
   "outputs": [
    {
     "data": {
      "text/plain": [
       "int"
      ]
     },
     "execution_count": 49,
     "metadata": {},
     "output_type": "execute_result"
    }
   ],
   "source": [
    "type(marks)"
   ]
  },
  {
   "cell_type": "code",
   "execution_count": 53,
   "id": "9c935e24-d680-4f75-b6ad-4ba3d11f0756",
   "metadata": {},
   "outputs": [
    {
     "name": "stdin",
     "output_type": "stream",
     "text": [
      "enter price 500\n"
     ]
    },
    {
     "name": "stdout",
     "output_type": "stream",
     "text": [
      "i will purchase\n"
     ]
    }
   ],
   "source": [
    "price=int(input('enter price'))\n",
    "if price >1000:\n",
    "  print('i will not purchase')\n",
    "else:\n",
    "    print('i will purchase')"
   ]
  },
  {
   "cell_type": "code",
   "execution_count": 54,
   "id": "e2f36e0b-12a2-4ce0-af0e-a55da59fa05c",
   "metadata": {},
   "outputs": [],
   "source": [
    "l =[1,3,2,3,54,5,6,7]"
   ]
  },
  {
   "cell_type": "code",
   "execution_count": 55,
   "id": "63f02dd4-caa2-495b-96d5-488418bb5c23",
   "metadata": {},
   "outputs": [],
   "source": [
    "### add one element to each no"
   ]
  },
  {
   "cell_type": "code",
   "execution_count": 58,
   "id": "d5140c0b-ad2a-4fa8-9972-2bcd75aca18a",
   "metadata": {},
   "outputs": [
    {
     "name": "stdout",
     "output_type": "stream",
     "text": [
      "2\n",
      "4\n",
      "3\n",
      "4\n",
      "55\n",
      "6\n",
      "7\n",
      "8\n"
     ]
    }
   ],
   "source": [
    "l1=[]\n",
    "for i in l:\n",
    "    print(i+1)\n",
    "    l1.append(i+1)"
   ]
  },
  {
   "cell_type": "code",
   "execution_count": 59,
   "id": "343c4cc2-4438-4f4b-a7d0-c55c14331a8b",
   "metadata": {},
   "outputs": [
    {
     "data": {
      "text/plain": [
       "[2, 4, 3, 4, 55, 6, 7, 8]"
      ]
     },
     "execution_count": 59,
     "metadata": {},
     "output_type": "execute_result"
    }
   ],
   "source": [
    "l1"
   ]
  },
  {
   "cell_type": "code",
   "execution_count": 60,
   "id": "ec02d5ca-800f-494e-b235-2d9f59af3e55",
   "metadata": {},
   "outputs": [],
   "source": [
    "l=['nilo','kumar','pwskills','course']"
   ]
  },
  {
   "cell_type": "code",
   "execution_count": 61,
   "id": "1cb58c5f-01eb-465e-8ec3-1eb6e8b4a5b9",
   "metadata": {},
   "outputs": [
    {
     "name": "stdout",
     "output_type": "stream",
     "text": [
      "nilo\n",
      "kumar\n",
      "pwskills\n",
      "course\n"
     ]
    }
   ],
   "source": [
    "l1=[]\n",
    "for i in l:\n",
    "    print(i)\n",
    "    l1.append(i.upper())"
   ]
  },
  {
   "cell_type": "code",
   "execution_count": 62,
   "id": "cce74e0c-5597-430f-a137-81be8816f22b",
   "metadata": {},
   "outputs": [
    {
     "data": {
      "text/plain": [
       "['NILO', 'KUMAR', 'PWSKILLS', 'COURSE']"
      ]
     },
     "execution_count": 62,
     "metadata": {},
     "output_type": "execute_result"
    }
   ],
   "source": [
    "l1"
   ]
  },
  {
   "cell_type": "code",
   "execution_count": 63,
   "id": "97ffeb09-8200-4acf-9a33-87fc422044db",
   "metadata": {},
   "outputs": [],
   "source": [
    "l =[1,2,3,4,5,'nilo','kumar',324.456,'abc']"
   ]
  },
  {
   "cell_type": "code",
   "execution_count": 66,
   "id": "6e6eb9d8-e302-45cb-bae8-a503ba280c9f",
   "metadata": {},
   "outputs": [],
   "source": [
    "l1_num=[]\n",
    "l2_str=[]\n",
    "for i in l:\n",
    "    if type (i) ==int or type(i) == float:\n",
    "        l1_num.append(i)\n",
    "    else :\n",
    "            l2_str.append(i)\n",
    "        "
   ]
  },
  {
   "cell_type": "code",
   "execution_count": 67,
   "id": "2ccac381-42fe-4a6f-a8d8-9361a529afd9",
   "metadata": {},
   "outputs": [
    {
     "data": {
      "text/plain": [
       "[1, 2, 3, 4, 5, 324.456]"
      ]
     },
     "execution_count": 67,
     "metadata": {},
     "output_type": "execute_result"
    }
   ],
   "source": [
    "l1_num"
   ]
  },
  {
   "cell_type": "code",
   "execution_count": null,
   "id": "026cdf48-7cec-4f3f-972e-09d652958bda",
   "metadata": {},
   "outputs": [],
   "source": []
  }
 ],
 "metadata": {
  "kernelspec": {
   "display_name": "Python 3 (ipykernel)",
   "language": "python",
   "name": "python3"
  },
  "language_info": {
   "codemirror_mode": {
    "name": "ipython",
    "version": 3
   },
   "file_extension": ".py",
   "mimetype": "text/x-python",
   "name": "python",
   "nbconvert_exporter": "python",
   "pygments_lexer": "ipython3",
   "version": "3.10.8"
  }
 },
 "nbformat": 4,
 "nbformat_minor": 5
}
